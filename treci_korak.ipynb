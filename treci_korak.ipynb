{
  "nbformat": 4,
  "nbformat_minor": 0,
  "metadata": {
    "colab": {
      "name": "treci_korak.ipynb",
      "provenance": [],
      "collapsed_sections": []
    },
    "kernelspec": {
      "name": "python3",
      "display_name": "Python 3"
    }
  },
  "cells": [
    {
      "cell_type": "code",
      "metadata": {
        "id": "3hhQtBZTjdho"
      },
      "source": [
        "import numpy as np\n",
        "import pandas as pd\n",
        "import matplotlib.pyplot as plt\n",
        "from keras.utils import to_categorical\n",
        "from keras.models import Sequential\n",
        "from keras.layers import Dense, Conv2D, MaxPool2D, Flatten, Dropout\n",
        "from keras.callbacks import EarlyStopping, ReduceLROnPlateau\n",
        "from keras.preprocessing.image import ImageDataGenerator\n",
        "from sklearn.model_selection import train_test_split\n",
        "from sklearn.metrics import confusion_matrix\n",
        "import itertools"
      ],
      "execution_count": null,
      "outputs": []
    },
    {
      "cell_type": "markdown",
      "metadata": {
        "id": "f9YjiXlXjmF2"
      },
      "source": [
        "> # **Ucitavanje skupova**"
      ]
    },
    {
      "cell_type": "code",
      "metadata": {
        "trusted": true,
        "id": "N8sXphIdr1IX"
      },
      "source": [
        "train = pd.read_csv('train.csv')\n",
        "test = pd.read_csv('test.csv')\n",
        "\n",
        "test = test.iloc[:,1:]"
      ],
      "execution_count": null,
      "outputs": []
    },
    {
      "cell_type": "markdown",
      "metadata": {
        "id": "jyCpd1tsjyOf"
      },
      "source": [
        "> # **Optimizacija podataka**\n",
        "\n",
        "\n",
        "\n"
      ]
    },
    {
      "cell_type": "code",
      "metadata": {
        "id": "gRzRNCubjycL"
      },
      "source": [
        "# training set podijeljen na oznake (labels) i značajke (features)\n",
        "X_train = train.iloc[:,1:]\n",
        "y_train = train.iloc[:,0]"
      ],
      "execution_count": null,
      "outputs": []
    },
    {
      "cell_type": "code",
      "metadata": {
        "id": "obkgb0sUjzjS"
      },
      "source": [
        "# Promjena dimenzija slika\n",
        "X_train = X_train.values.reshape(-1, 28, 28, 1)/255.\n",
        "test = test.values.reshape(-1, 28, 28, 1)/255.\n",
        "\n",
        "y_train = to_categorical(y_train, 16)"
      ],
      "execution_count": null,
      "outputs": []
    },
    {
      "cell_type": "markdown",
      "metadata": {
        "id": "UDglqQyVj1e7"
      },
      "source": [
        "> # **Augmentacija podataka**\n",
        "\n"
      ]
    },
    {
      "cell_type": "code",
      "metadata": {
        "id": "gfG2UUifj1oj"
      },
      "source": [
        "datagen = ImageDataGenerator(\n",
        "            rotation_range=10,\n",
        "            width_shift_range=0.1,\n",
        "            height_shift_range=0.1,\n",
        "            zoom_range=0.1,\n",
        "            shear_range=0.1\n",
        "            )"
      ],
      "execution_count": null,
      "outputs": []
    },
    {
      "cell_type": "markdown",
      "metadata": {
        "id": "ntJD6S1tj4Du"
      },
      "source": [
        "\n",
        "\n",
        "> # **Definiranje modela**\n",
        "\n"
      ]
    },
    {
      "cell_type": "code",
      "metadata": {
        "id": "wbwiLz6Qj4NB"
      },
      "source": [
        "def create_model():\n",
        "    model = Sequential()\n",
        "\n",
        "    model.add(Conv2D(32, (5,5), padding='same', input_shape=X_train.shape[1:], activation='relu'))\n",
        "    model.add(Conv2D(32, (5,5), padding='same', activation='relu'))\n",
        "    model.add(MaxPool2D(2,2))\n",
        "\n",
        "    model.add(Conv2D(64, (3,3), padding='same', activation='relu'))\n",
        "    model.add(Conv2D(64, (3,3), padding='same', activation='relu'))\n",
        "    model.add(MaxPool2D(2,2))\n",
        "\n",
        "    model.add(Flatten())\n",
        "    model.add(Dense(256, activation='relu'))\n",
        "    model.add(Dropout(0.5))\n",
        "    model.add(Dense(16, activation='softmax'))\n",
        "    \n",
        "    model.compile(optimizer='adam', loss='categorical_crossentropy', metrics=['accuracy'])\n",
        "    \n",
        "    return model"
      ],
      "execution_count": null,
      "outputs": []
    },
    {
      "cell_type": "markdown",
      "metadata": {
        "id": "IuIRO-wvj67j"
      },
      "source": [
        "> # **Treniranje**\n"
      ]
    },
    {
      "cell_type": "code",
      "metadata": {
        "id": "8Q4gs8L_j7D5"
      },
      "source": [
        "EPOCHS = 20\n",
        "BATCH_SIZE = 2\n",
        "ENSEMBLES = 10\n",
        "results = np.zeros((test.shape[0],16))\n",
        "histories = []\n",
        "\n",
        "callback_list = [\n",
        "    ReduceLROnPlateau(monitor='val_loss', factor=0.25, patience=2)\n",
        "]\n",
        "\n",
        "for i in range(ENSEMBLES):\n",
        "    # podjela na training set i validation set\n",
        "    X_train_tmp, X_val, y_train_tmp, y_val = train_test_split(X_train, y_train, test_size=0.2, random_state=i)\n",
        "    # rad s modelom\n",
        "    model = create_model()\n",
        "\n",
        "    history = model.fit(datagen.flow(X_train_tmp, y_train_tmp, batch_size=BATCH_SIZE),\n",
        "                   epochs=EPOCHS,\n",
        "                   callbacks=callback_list,\n",
        "                   validation_data=(X_val, y_val),\n",
        "                   steps_per_epoch=X_train_tmp.shape[0] // BATCH_SIZE)\n",
        "    # spremanje rezultata\n",
        "    histories.append(history)\n",
        "    results += model.predict(test)"
      ],
      "execution_count": null,
      "outputs": []
    },
    {
      "cell_type": "markdown",
      "metadata": {
        "id": "lmuWZ1adj_Xy"
      },
      "source": [
        "> # **Kreiranje dokumenta s rezultatima**\n",
        "\n"
      ]
    },
    {
      "cell_type": "code",
      "metadata": {
        "id": "yJA9WISYj_ev"
      },
      "source": [
        "results = np.argmax(results, axis=1)\n",
        "results = pd.Series(results, name='Label')\n",
        "final = pd.concat([pd.Series(range(1,28001), name='ImageID'), results], axis=1)\n",
        "final.to_csv('final.csv', index=False)"
      ],
      "execution_count": null,
      "outputs": []
    }
  ]
}